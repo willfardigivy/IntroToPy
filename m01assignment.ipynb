{
 "cells": [
  {
   "cell_type": "markdown",
   "id": "0ee9b32b",
   "metadata": {},
   "source": [
    "3.1: There are 60 times 60 seconds in an hour, or 3600 seconds."
   ]
  },
  {
   "cell_type": "code",
   "execution_count": 9,
   "id": "d5484848",
   "metadata": {},
   "outputs": [
    {
     "data": {
      "text/plain": [
       "3600"
      ]
     },
     "execution_count": 9,
     "metadata": {},
     "output_type": "execute_result"
    }
   ],
   "source": [
    "60 * 60"
   ]
  },
  {
   "cell_type": "markdown",
   "id": "d08d6bd8",
   "metadata": {},
   "source": [
    "3.2: Assigning the result from 3.1 to a variable"
   ]
  },
  {
   "cell_type": "code",
   "execution_count": 14,
   "id": "16aba387",
   "metadata": {},
   "outputs": [],
   "source": [
    "seconds_per_hour = 60 * 60"
   ]
  },
  {
   "cell_type": "markdown",
   "id": "4f8d4b6d",
   "metadata": {},
   "source": [
    "3.3: How many seconds are in a day? There are 24 hours in a day"
   ]
  },
  {
   "cell_type": "code",
   "execution_count": 15,
   "id": "651549f4",
   "metadata": {},
   "outputs": [
    {
     "data": {
      "text/plain": [
       "86400"
      ]
     },
     "execution_count": 15,
     "metadata": {},
     "output_type": "execute_result"
    }
   ],
   "source": [
    "seconds_per_hour * 24"
   ]
  },
  {
   "cell_type": "markdown",
   "id": "dd2a7118",
   "metadata": {},
   "source": [
    "3.4: Assigning seconds per day to a variable"
   ]
  },
  {
   "cell_type": "code",
   "execution_count": 16,
   "id": "6ae7de4a",
   "metadata": {},
   "outputs": [],
   "source": [
    "seconds_per_day = seconds_per_hour * 24"
   ]
  },
  {
   "cell_type": "markdown",
   "id": "21454a33",
   "metadata": {},
   "source": [
    "3.5 Dividing the two with floating point division"
   ]
  },
  {
   "cell_type": "code",
   "execution_count": 17,
   "id": "d0927a16",
   "metadata": {},
   "outputs": [
    {
     "data": {
      "text/plain": [
       "24.0"
      ]
     },
     "execution_count": 17,
     "metadata": {},
     "output_type": "execute_result"
    }
   ],
   "source": [
    "seconds_per_day / seconds_per_hour"
   ]
  },
  {
   "cell_type": "markdown",
   "id": "7d7e38e4",
   "metadata": {},
   "source": [
    "3.6 Same deal but with integer division. This number does indeed agree with the previous"
   ]
  },
  {
   "cell_type": "code",
   "execution_count": 18,
   "id": "db610f5b",
   "metadata": {},
   "outputs": [
    {
     "data": {
      "text/plain": [
       "24"
      ]
     },
     "execution_count": 18,
     "metadata": {},
     "output_type": "execute_result"
    }
   ],
   "source": [
    "seconds_per_day // seconds_per_hour"
   ]
  }
 ],
 "metadata": {
  "kernelspec": {
   "display_name": "Python 3 (ipykernel)",
   "language": "python",
   "name": "python3"
  },
  "language_info": {
   "codemirror_mode": {
    "name": "ipython",
    "version": 3
   },
   "file_extension": ".py",
   "mimetype": "text/x-python",
   "name": "python",
   "nbconvert_exporter": "python",
   "pygments_lexer": "ipython3",
   "version": "3.11.5"
  }
 },
 "nbformat": 4,
 "nbformat_minor": 5
}
