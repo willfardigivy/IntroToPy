{
 "cells": [
  {
   "cell_type": "markdown",
   "id": "2c66151a",
   "metadata": {},
   "source": [
    "7.4"
   ]
  },
  {
   "cell_type": "code",
   "execution_count": 2,
   "id": "b57ffa63",
   "metadata": {},
   "outputs": [
    {
     "data": {
      "text/plain": [
       "('mozzerella', 'cinderella', 'salmonella')"
      ]
     },
     "execution_count": 2,
     "metadata": {},
     "output_type": "execute_result"
    }
   ],
   "source": [
    "things = \"mozzerella\",\"cinderella\",\"salmonella\"\n",
    "things"
   ]
  },
  {
   "cell_type": "markdown",
   "id": "be9d8e11",
   "metadata": {},
   "source": [
    "7.5 - it only changed the element being capitalized... yes"
   ]
  },
  {
   "cell_type": "code",
   "execution_count": 3,
   "id": "d36aaa9d",
   "metadata": {},
   "outputs": [
    {
     "data": {
      "text/plain": [
       "('mozzerella', 'Cinderella', 'salmonella')"
      ]
     },
     "execution_count": 3,
     "metadata": {},
     "output_type": "execute_result"
    }
   ],
   "source": [
    "things = \"mozzerella\",\"Cinderella\",\"salmonella\"\n",
    "things"
   ]
  },
  {
   "cell_type": "markdown",
   "id": "3c1d9409",
   "metadata": {},
   "source": [
    "7.6 - again it just changed capitalization...?"
   ]
  },
  {
   "cell_type": "code",
   "execution_count": 4,
   "id": "ac167e3a",
   "metadata": {},
   "outputs": [
    {
     "data": {
      "text/plain": [
       "('MOZZERELLA', 'Cinderella', 'salmonella')"
      ]
     },
     "execution_count": 4,
     "metadata": {},
     "output_type": "execute_result"
    }
   ],
   "source": [
    "things = \"MOZZERELLA\",\"Cinderella\",\"salmonella\"\n",
    "things"
   ]
  },
  {
   "cell_type": "markdown",
   "id": "20733117",
   "metadata": {},
   "source": [
    "7.7"
   ]
  },
  {
   "cell_type": "code",
   "execution_count": 5,
   "id": "ad81c1e5",
   "metadata": {},
   "outputs": [
    {
     "data": {
      "text/plain": [
       "('MOZZERELLA', 'Cinderella')"
      ]
     },
     "execution_count": 5,
     "metadata": {},
     "output_type": "execute_result"
    }
   ],
   "source": [
    "things = \"MOZZERELLA\",\"Cinderella\"\n",
    "things"
   ]
  },
  {
   "cell_type": "markdown",
   "id": "b9b086dd",
   "metadata": {},
   "source": [
    "9.1"
   ]
  },
  {
   "cell_type": "code",
   "execution_count": 7,
   "id": "7073c641",
   "metadata": {},
   "outputs": [
    {
     "data": {
      "text/plain": [
       "['Harry', 'Ron', 'Hermione']"
      ]
     },
     "execution_count": 7,
     "metadata": {},
     "output_type": "execute_result"
    }
   ],
   "source": [
    "def good():\n",
    "    return ['Harry','Ron','Hermione']\n",
    "good()"
   ]
  },
  {
   "cell_type": "markdown",
   "id": "28abb601",
   "metadata": {},
   "source": [
    "9.2"
   ]
  },
  {
   "cell_type": "code",
   "execution_count": 20,
   "id": "cdfe6865",
   "metadata": {},
   "outputs": [
    {
     "data": {
      "text/plain": [
       "5"
      ]
     },
     "execution_count": 20,
     "metadata": {},
     "output_type": "execute_result"
    }
   ],
   "source": [
    "listy = []\n",
    "def get_odds():\n",
    "    for i in range(10):\n",
    "        if i % 2 != 0:\n",
    "            listy.append(i)\n",
    "    return listy[2]\n",
    "get_odds()"
   ]
  },
  {
   "cell_type": "code",
   "execution_count": null,
   "id": "c74d4113",
   "metadata": {},
   "outputs": [],
   "source": []
  }
 ],
 "metadata": {
  "kernelspec": {
   "display_name": "Python 3 (ipykernel)",
   "language": "python",
   "name": "python3"
  },
  "language_info": {
   "codemirror_mode": {
    "name": "ipython",
    "version": 3
   },
   "file_extension": ".py",
   "mimetype": "text/x-python",
   "name": "python",
   "nbconvert_exporter": "python",
   "pygments_lexer": "ipython3",
   "version": "3.11.5"
  }
 },
 "nbformat": 4,
 "nbformat_minor": 5
}
